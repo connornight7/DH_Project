{
 "cells": [
  {
   "cell_type": "code",
   "execution_count": null,
   "id": "da2811fc",
   "metadata": {},
   "outputs": [],
   "source": [
    "import csv\n",
    "import random\n",
    "\n",
    "# Sample input string (you could also load this from a file)\n",
    "input_data = \"\"\"Place,Latitude,Longitude,God,Source,Frequency\n",
    "Lycaon,33.9530321,-6.8959835,Hermes,Apollodorus,1\n",
    "Coronis,46.4513284,13.3216192,Hermes,Apollodorus,1\n",
    "Dicte,35.1628621,25.4450643,Zeus,Apollodorus,1\n",
    "Metis,46.0195863,24.4056886,Zeus,Apollodorus,3\"\"\"\n",
    "\n",
    "# Parse input string into rows\n",
    "rows = list(csv.reader(input_data.strip().split('\\n')))\n",
    "header, data_rows = rows[0], rows[1:]\n",
    "\n",
    "# Jittering function: adds small random offset\n",
    "def jitter_coordinate(value, jitter_amount=0.001):\n",
    "    return float(value) + random.uniform(-jitter_amount, jitter_amount)\n",
    "\n",
    "# Apply jittering\n",
    "jittered_rows = []\n",
    "for row in data_rows:\n",
    "    place, lat, lon, god, source, freq = row\n",
    "    jittered_lat = jitter_coordinate(lat)\n",
    "    jittered_lon = jitter_coordinate(lon)\n",
    "    jittered_rows.append([place, jittered_lat, jittered_lon, god, source, freq])\n",
    "\n",
    "# Save to CSV\n",
    "output_file = 'jittered_myth_points.csv'\n",
    "with open(output_file, 'w', newline='') as f:\n",
    "    writer = csv.writer(f)\n",
    "    writer.writerow(header)\n",
    "    writer.writerows(jittered_rows)\n",
    "\n",
    "print(f\"Jittered data saved to: {output_file}\")\n"
   ]
  }
 ],
 "metadata": {
  "language_info": {
   "name": "python"
  }
 },
 "nbformat": 4,
 "nbformat_minor": 5
}
