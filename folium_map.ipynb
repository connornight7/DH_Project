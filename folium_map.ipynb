{
 "cells": [
  {
   "cell_type": "code",
   "execution_count": null,
   "id": "95aff8d3",
   "metadata": {},
   "outputs": [],
   "source": [
    "import pandas as pd\n",
    "import folium\n",
    "import os\n",
    "\n",
    "# Load data from CSV\n",
    "df = pd.read_csv(\"myth_data.csv\")\n",
    "\n",
    "# Create base map\n",
    "map_center = [df[\"Latitude\"].mean(), df[\"Longitude\"].mean()]\n",
    "m = folium.Map(location=map_center, zoom_start=4)\n",
    "\n",
    "# Set icon folder\n",
    "icon_folder = \"icons\"\n",
    "\n",
    "# Add each location with custom god icons\n",
    "for _, row in df.iterrows():\n",
    "    god = row[\"God\"]\n",
    "    icon_path = os.path.join(icon_folder, f\"{god}.png\")  # Or .jpg depending on your files\n",
    "\n",
    "    if os.path.exists(icon_path):\n",
    "        icon = folium.CustomIcon(icon_image=icon_path, icon_size=(30, 30))\n",
    "    else:\n",
    "        icon = None  # fallback to default\n",
    "\n",
    "    popup_text = f\"{row['Place']}<br>God: {god}<br>Source: {row['Source']}<br>Frequency: {row['Frequency']}\"\n",
    "    folium.Marker(\n",
    "        location=[row[\"Latitude\"], row[\"Longitude\"]],\n",
    "        popup=popup_text,\n",
    "        icon=icon\n",
    "    ).add_to(m)\n",
    "\n",
    "# Save map\n",
    "m.save(\"myth_map.html\")\n"
   ]
  }
 ],
 "metadata": {
  "language_info": {
   "name": "python"
  }
 },
 "nbformat": 4,
 "nbformat_minor": 5
}
