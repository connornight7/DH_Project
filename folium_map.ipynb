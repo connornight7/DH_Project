{
 "cells": [
  {
   "cell_type": "code",
   "execution_count": 21,
   "id": "3ef65c22",
   "metadata": {},
   "outputs": [],
   "source": [
    "import pandas as pd\n",
    "import folium\n",
    "import os"
   ]
  },
  {
   "cell_type": "code",
   "execution_count": 22,
   "id": "95aff8d3",
   "metadata": {},
   "outputs": [
    {
     "ename": "ValueError",
     "evalue": "Custom tiles must have an attribution.",
     "output_type": "error",
     "traceback": [
      "\u001b[31m---------------------------------------------------------------------------\u001b[39m",
      "\u001b[31mValueError\u001b[39m                                Traceback (most recent call last)",
      "\u001b[36mCell\u001b[39m\u001b[36m \u001b[39m\u001b[32mIn[22]\u001b[39m\u001b[32m, line 12\u001b[39m\n\u001b[32m      9\u001b[39m map_center = [df[\u001b[33m\"\u001b[39m\u001b[33mLatitude\u001b[39m\u001b[33m\"\u001b[39m].mean(), df[\u001b[33m\"\u001b[39m\u001b[33mLongitude\u001b[39m\u001b[33m\"\u001b[39m].mean()]\n\u001b[32m     11\u001b[39m \u001b[38;5;66;03m# Use a thematic tile style\u001b[39;00m\n\u001b[32m---> \u001b[39m\u001b[32m12\u001b[39m m = \u001b[43mfolium\u001b[49m\u001b[43m.\u001b[49m\u001b[43mMap\u001b[49m\u001b[43m(\u001b[49m\u001b[43mlocation\u001b[49m\u001b[43m=\u001b[49m\u001b[43mmap_center\u001b[49m\u001b[43m,\u001b[49m\u001b[43m \u001b[49m\u001b[43mzoom_start\u001b[49m\u001b[43m=\u001b[49m\u001b[32;43m5\u001b[39;49m\u001b[43m,\u001b[49m\u001b[43m \u001b[49m\u001b[43mtiles\u001b[49m\u001b[43m=\u001b[49m\u001b[33;43m\"\u001b[39;49m\u001b[33;43mStamen Watercolor\u001b[39;49m\u001b[33;43m\"\u001b[39;49m\u001b[43m)\u001b[49m\n\u001b[32m     14\u001b[39m \u001b[38;5;66;03m# Directory where god icons are stored\u001b[39;00m\n\u001b[32m     15\u001b[39m icon_folder = \u001b[33m\"\u001b[39m\u001b[33micons\u001b[39m\u001b[33m\"\u001b[39m\n",
      "\u001b[36mFile \u001b[39m\u001b[32m~/.python/current/lib/python3.12/site-packages/folium/folium.py:322\u001b[39m, in \u001b[36mMap.__init__\u001b[39m\u001b[34m(self, location, width, height, left, top, position, tiles, attr, min_zoom, max_zoom, zoom_start, min_lat, max_lat, min_lon, max_lon, max_bounds, crs, control_scale, prefer_canvas, no_touch, disable_3d, png_enabled, zoom_control, font_size, **kwargs)\u001b[39m\n\u001b[32m    320\u001b[39m     \u001b[38;5;28mself\u001b[39m.add_child(tiles)\n\u001b[32m    321\u001b[39m \u001b[38;5;28;01melif\u001b[39;00m tiles:\n\u001b[32m--> \u001b[39m\u001b[32m322\u001b[39m     tile_layer = \u001b[43mTileLayer\u001b[49m\u001b[43m(\u001b[49m\n\u001b[32m    323\u001b[39m \u001b[43m        \u001b[49m\u001b[43mtiles\u001b[49m\u001b[43m=\u001b[49m\u001b[43mtiles\u001b[49m\u001b[43m,\u001b[49m\u001b[43m \u001b[49m\u001b[43mattr\u001b[49m\u001b[43m=\u001b[49m\u001b[43mattr\u001b[49m\u001b[43m,\u001b[49m\u001b[43m \u001b[49m\u001b[43mmin_zoom\u001b[49m\u001b[43m=\u001b[49m\u001b[43mmin_zoom\u001b[49m\u001b[43m,\u001b[49m\u001b[43m \u001b[49m\u001b[43mmax_zoom\u001b[49m\u001b[43m=\u001b[49m\u001b[43mmax_zoom\u001b[49m\n\u001b[32m    324\u001b[39m \u001b[43m    \u001b[49m\u001b[43m)\u001b[49m\n\u001b[32m    325\u001b[39m     \u001b[38;5;28mself\u001b[39m.add_child(tile_layer, name=tile_layer.tile_name)\n",
      "\u001b[36mFile \u001b[39m\u001b[32m~/.python/current/lib/python3.12/site-packages/folium/raster_layers.py:143\u001b[39m, in \u001b[36mTileLayer.__init__\u001b[39m\u001b[34m(self, tiles, min_zoom, max_zoom, max_native_zoom, attr, detect_retina, name, overlay, control, show, no_wrap, subdomains, tms, opacity, **kwargs)\u001b[39m\n\u001b[32m    141\u001b[39m \u001b[38;5;28mself\u001b[39m.tiles = tiles\n\u001b[32m    142\u001b[39m \u001b[38;5;28;01mif\u001b[39;00m \u001b[38;5;129;01mnot\u001b[39;00m attr:\n\u001b[32m--> \u001b[39m\u001b[32m143\u001b[39m     \u001b[38;5;28;01mraise\u001b[39;00m \u001b[38;5;167;01mValueError\u001b[39;00m(\u001b[33m\"\u001b[39m\u001b[33mCustom tiles must have an attribution.\u001b[39m\u001b[33m\"\u001b[39m)\n\u001b[32m    145\u001b[39m \u001b[38;5;28mself\u001b[39m.options = remove_empty(\n\u001b[32m    146\u001b[39m     min_zoom=min_zoom \u001b[38;5;129;01mor\u001b[39;00m \u001b[32m0\u001b[39m,\n\u001b[32m    147\u001b[39m     max_zoom=max_zoom \u001b[38;5;129;01mor\u001b[39;00m \u001b[32m18\u001b[39m,\n\u001b[32m   (...)\u001b[39m\u001b[32m    155\u001b[39m     **kwargs,\n\u001b[32m    156\u001b[39m )\n",
      "\u001b[31mValueError\u001b[39m: Custom tiles must have an attribution."
     ]
    }
   ],
   "source": [
    "import pandas as pd\n",
    "import folium\n",
    "import os\n",
    "\n",
    "# Load data\n",
    "df = pd.read_csv(\"filtered_output.csv\")\n",
    "\n",
    "# Center the map on average coordinates\n",
    "map_center = [df[\"Latitude\"].mean(), df[\"Longitude\"].mean()]\n",
    "\n",
    "# Use a thematic tile style\n",
    "m = folium.Map(location=map_center, zoom_start=5, tiles=\"Stamen Watercolor\")\n",
    "\n",
    "# Directory where god icons are stored\n",
    "icon_folder = \"icons\"\n",
    "\n",
    "# Loop over rows and add markers + labels\n",
    "for _, row in df.iterrows():\n",
    "    god_raw = str(row[\"God\"]).strip()\n",
    "    god = god_raw.capitalize()\n",
    "    place = row[\"Place\"]\n",
    "\n",
    "    # Find image path (PNG or JPG)\n",
    "    icon_path_png = os.path.join(icon_folder, f\"{god}.png\")\n",
    "    icon_path_jpg = os.path.join(icon_folder, f\"{god}.jpg\")\n",
    "\n",
    "    if os.path.exists(icon_path_png):\n",
    "        icon_path = icon_path_png\n",
    "    elif os.path.exists(icon_path_jpg):\n",
    "        icon_path = icon_path_jpg\n",
    "    else:\n",
    "        print(f\"⚠️ Missing icon for: {god}\")\n",
    "        icon_path = None\n",
    "\n",
    "    # Icon for marker\n",
    "    icon = folium.CustomIcon(icon_path, icon_size=(30, 30)) if icon_path else None\n",
    "\n",
    "    # Popup content\n",
    "    popup_text = (\n",
    "        f\"<b>{place}</b><br>\"\n",
    "        f\"God: {god}<br>\"\n",
    "        f\"Source: {row['Source']}<br>\"\n",
    "        f\"Frequency: {row['Frequency']}\"\n",
    "    )\n",
    "\n",
    "    # Add text label above icon\n",
    "    folium.Marker(\n",
    "        location=[row[\"Latitude\"] + 0.15, row[\"Longitude\"]],\n",
    "        icon=folium.DivIcon(html=f\"<div style='font-size: 12px; font-weight: bold; color: black; text-align: center;'>{place}</div>\")\n",
    "    ).add_to(m)\n",
    "\n",
    "    # Add image icon\n",
    "    folium.Marker(\n",
    "        location=[row[\"Latitude\"], row[\"Longitude\"]],\n",
    "        popup=popup_text,\n",
    "        icon=icon\n",
    "    ).add_to(m)\n",
    "\n",
    "# Save output map\n",
    "m.save(\"myth_map.html\")\n",
    "print(\"✅ Saved 'myth_map.html' with Stamen Watercolor style and labeled markers.\")\n",
    "\n"
   ]
  }
 ],
 "metadata": {
  "kernelspec": {
   "display_name": "Python 3",
   "language": "python",
   "name": "python3"
  },
  "language_info": {
   "codemirror_mode": {
    "name": "ipython",
    "version": 3
   },
   "file_extension": ".py",
   "mimetype": "text/x-python",
   "name": "python",
   "nbconvert_exporter": "python",
   "pygments_lexer": "ipython3",
   "version": "3.12.1"
  }
 },
 "nbformat": 4,
 "nbformat_minor": 5
}
