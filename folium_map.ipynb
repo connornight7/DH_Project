{
 "cells": [
  {
   "cell_type": "code",
   "execution_count": 1,
   "id": "3ef65c22",
   "metadata": {},
   "outputs": [],
   "source": [
    "import pandas as pd\n",
    "import folium\n",
    "import os"
   ]
  },
  {
   "cell_type": "code",
   "execution_count": 2,
   "id": "95aff8d3",
   "metadata": {},
   "outputs": [
    {
     "name": "stdout",
     "output_type": "stream",
     "text": [
      "✅ Antique-style map with god icons and labels saved as 'myth_map.html'\n"
     ]
    }
   ],
   "source": [
    "import pandas as pd\n",
    "import folium\n",
    "import os\n",
    "import base64\n",
    "\n",
    "# Load data\n",
    "df = pd.read_csv(\"zfinal.csv\")\n",
    "\n",
    "# Center map\n",
    "map_center = [df[\"Latitude\"].mean(), df[\"Longitude\"].mean()]\n",
    "# m = folium.Map(location=map_center, zoom_start=6, tiles=None)\n",
    "\n",
    "m = folium.Map(\n",
    "    location=map_center,\n",
    "    zoom_start=6,\n",
    "    tiles=\"CartoDB positron\"\n",
    ")\n",
    "\n",
    "\n",
    "# Add Stamen Terrain tile (parchment-map-style with shading)\n",
    "# folium.TileLayer(\n",
    "#     tiles=\"https://stamen-tiles.a.ssl.fastly.net/terrain/{z}/{x}/{y}.png\",\n",
    "#     attr='Map tiles by <a href=\"http://stamen.com\">Stamen Design</a>, '\n",
    "#          'under <a href=\"http://creativecommons.org/licenses/by/3.0\">CC BY 3.0</a>. '\n",
    "#          'Data by <a href=\"http://openstreetmap.org\">OpenStreetMap</a>, under ODbL.',\n",
    "#     name=\"Stamen Terrain\",\n",
    "#     control=False\n",
    "# ).add_to(m)\n",
    "\n",
    "# Directory of god icons\n",
    "icon_folder = \"icons\"\n",
    "\n",
    "for _, row in df.iterrows():\n",
    "    god = row[\"God\"].strip().capitalize()\n",
    "    place = row[\"Place\"]\n",
    "\n",
    "    icon_path_png = os.path.join(icon_folder, f\"{god}.png\")\n",
    "    icon_path_jpg = os.path.join(icon_folder, f\"{god}.jpeg\")\n",
    "\n",
    "    if os.path.exists(icon_path_png):\n",
    "        icon_path = icon_path_png\n",
    "    elif os.path.exists(icon_path_jpg):\n",
    "        icon_path = icon_path_jpg\n",
    "    else:\n",
    "        print(f\"⚠️ Missing icon for: {god}\")\n",
    "        continue\n",
    "\n",
    "    # Embed image using base64\n",
    "    with open(icon_path, \"rb\") as f:\n",
    "        encoded = base64.b64encode(f.read()).decode(\"utf-8\")\n",
    "        ext = os.path.splitext(icon_path)[1][1:]  # remove dot\n",
    "        data_uri = f\"data:image/{ext};base64,{encoded}\"\n",
    "\n",
    "    # Combined label and icon\n",
    "    html = f\"\"\"\n",
    "    <div style=\"text-align: center;\">\n",
    "        <div style=\"font-size: 12px; font-weight: bold; color: black;\">{place}</div>\n",
    "        <img src=\"{data_uri}\" style=\"width: 30px; height: 30px;\">\n",
    "    </div>\n",
    "    \"\"\"\n",
    "\n",
    "    popup_text = (\n",
    "        f\"<b>{place}</b><br>\"\n",
    "        f\"God: {god}<br>\"\n",
    "        f\"Source: {row['Source']}<br>\"\n",
    "        f\"Frequency: {row['Frequency']}\"\n",
    "    )\n",
    "\n",
    "    folium.Marker(\n",
    "        location=[row[\"Latitude\"], row[\"Longitude\"]],\n",
    "        icon=folium.DivIcon(html=html),\n",
    "        popup=popup_text\n",
    "    ).add_to(m)\n",
    "\n",
    "# Save map\n",
    "m.save(\"myth_map.html\")\n",
    "print(\"✅ Antique-style map with god icons and labels saved as 'myth_map.html'\")\n"
   ]
  }
 ],
 "metadata": {
  "kernelspec": {
   "display_name": "Python 3",
   "language": "python",
   "name": "python3"
  },
  "language_info": {
   "codemirror_mode": {
    "name": "ipython",
    "version": 3
   },
   "file_extension": ".py",
   "mimetype": "text/x-python",
   "name": "python",
   "nbconvert_exporter": "python",
   "pygments_lexer": "ipython3",
   "version": "3.12.1"
  }
 },
 "nbformat": 4,
 "nbformat_minor": 5
}
