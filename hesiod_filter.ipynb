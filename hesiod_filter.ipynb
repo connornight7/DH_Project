{
 "cells": [
  {
   "cell_type": "code",
   "execution_count": 2,
   "id": "107dce3f",
   "metadata": {},
   "outputs": [
    {
     "name": "stdout",
     "output_type": "stream",
     "text": [
      "Filtered data written to filtered_output.csv\n"
     ]
    }
   ],
   "source": [
    "import csv\n",
    "from io import StringIO\n",
    "\n",
    "data = '''Heracles,-11.9569279,-77.0820547,Hera,Hesiod,2\n",
    "Helicon,31.913485,-86.2119059,Zeus,Hesiod,1\n",
    "Themis,25.631845,-100.2732001,Zeus,Hesiod,2\n",
    "Hebe,40.6614738,-76.7346888,Apollo,Hesiod,1\n",
    "Earth,34.2331373,-102.4107493,Zeus,Hesiod,10\n",
    "Pieria,46.520306,12.7972483,Zeus,Hesiod,1\n",
    "Polyhymnia,52.5586843,13.3443202,Zeus,Hesiod,1\n",
    "Urania,48.211547,16.3837538,Zeus,Hesiod,2\n",
    "Calliope,-24.044706,151.1765758,Zeus,Hesiod,1\n",
    "Muses,29.5674383,-98.3122638,Zeus,Hesiod,1\n",
    "Sea,47.4475673,-122.3080159,Zeus,Hesiod,2\n",
    "Heracles,-11.9569279,-77.0820547,Zeus,Hesiod,3\n",
    "Bellerophon,50.8281418,-0.1369535,Zeus,Hesiod,1\n",
    "Nemea,45.7577894,4.8576431,Zeus,Hesiod,2\n",
    "Ladon,48.0044629,2.5340165,Apollo,Hesiod,1\n",
    "Boreas,51.2047807,4.4321949,Athena,Hesiod,1\n",
    "Ocean,39.977818,-74.3319287,Athena,Hesiod,1\n",
    "Hermes,49.3571636,2.2461658,Hermes,Hesiod,1\n",
    "Titan,13.0718794,77.5560732,Zeus,Hesiod,2\n",
    "Boreas,51.2047807,4.4321949,Zeus,Hesiod,1\n",
    "Zephyr,31.6767414,-98.7959927,Zeus,Hesiod,1\n",
    "Metis,46.0195863,24.4056886,Zeus,Hesiod,2\n",
    "Eirene,34.7766125,127.644459,Zeus,Hesiod,1\n",
    "Eileithyia,35.3245296,25.2054037,Zeus,Hesiod,1\n",
    "Triton,49.5230512,-55.6124588,Zeus,Hesiod,1\n",
    "Harmonia,-29.549989,-51.422308,Zeus,Hesiod,1\n",
    "Hermes,49.3571636,2.2461658,Zeus,Hesiod,1\n",
    "Semele,-34.6245058,-58.51175,Zeus,Hesiod,1\n",
    "Hebe,40.6614738,-76.7346888,Zeus,Hesiod,1\n",
    "Nereus,51.8366166,4.1601107,Zeus,Hesiod,1\n",
    "Europa,51.0,10.0,Poseidon,Hesiod,1\n",
    "Asia,51.2086975,89.2343748,Poseidon,Hesiod,1\n",
    "Heyne,51.3455989,12.3568955,Zeus,Hesiod,1\n",
    "Mount Ida,34.5544099,-93.6327926,Athena,Hesiod,1'''\n",
    "\n",
    "# Parse the string into a CSV reader\n",
    "input_csv = csv.reader(StringIO(data))\n",
    "output_rows = []\n",
    "\n",
    "# Store header\n",
    "header = next(input_csv)\n",
    "output_rows.append(header)\n",
    "\n",
    "# Define longitude bounds for the Americas\n",
    "def in_americas(lat, lon):\n",
    "    return -170 <= lon <= -30\n",
    "\n",
    "#Define long and lat bounds for Oceania\n",
    "def in_oceania(lat, lon):\n",
    "    return -50 <= lat <= 10 and 110 <= lon <= 180\n",
    "\n",
    "# Filter out rows in North or South America\n",
    "for row in input_csv:\n",
    "    lat = float(row[1])\n",
    "    lon = float(row[2])\n",
    "    if not (in_americas(lat, lon) or in_oceania(lat, lon)):\n",
    "        output_rows.append(row)\n",
    "\n",
    "# Write to CSV file\n",
    "with open(\"hesiod_filtered.csv\", \"w\", newline=\"\", encoding=\"utf-8\") as csvfile:\n",
    "    writer = csv.writer(csvfile)\n",
    "    writer.writerows(output_rows)\n",
    "\n",
    "print(\"Filtered data written to filtered_output.csv\")"
   ]
  }
 ],
 "metadata": {
  "kernelspec": {
   "display_name": "Python 3",
   "language": "python",
   "name": "python3"
  },
  "language_info": {
   "codemirror_mode": {
    "name": "ipython",
    "version": 3
   },
   "file_extension": ".py",
   "mimetype": "text/x-python",
   "name": "python",
   "nbconvert_exporter": "python",
   "pygments_lexer": "ipython3",
   "version": "3.12.1"
  }
 },
 "nbformat": 4,
 "nbformat_minor": 5
}
